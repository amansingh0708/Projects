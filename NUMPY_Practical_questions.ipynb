{
  "nbformat": 4,
  "nbformat_minor": 0,
  "metadata": {
    "colab": {
      "provenance": []
    },
    "kernelspec": {
      "name": "python3",
      "display_name": "Python 3"
    },
    "language_info": {
      "name": "python"
    }
  },
  "cells": [
    {
      "cell_type": "code",
      "execution_count": 1,
      "metadata": {
        "id": "c3dJIumimj60"
      },
      "outputs": [],
      "source": [
        "import numpy as np"
      ]
    },
    {
      "cell_type": "code",
      "source": [
        "#Numpy Assignment Practical Questions only"
      ],
      "metadata": {
        "id": "uSo05j7WmrcG"
      },
      "execution_count": 2,
      "outputs": []
    },
    {
      "cell_type": "code",
      "source": [
        "#Q1.\n",
        "arr = np.random.randint(1, 101, (3, 3))\n",
        "print(\"Original Array:\\n\", arr)\n",
        "\n",
        "transposed = arr.T\n",
        "print(\"Transposed Array:\\n\", transposed)"
      ],
      "metadata": {
        "colab": {
          "base_uri": "https://localhost:8080/"
        },
        "id": "_hnz0G8bmydi",
        "outputId": "61e79de8-5cf0-4238-e50d-7d81b06e9d2b"
      },
      "execution_count": 13,
      "outputs": [
        {
          "output_type": "stream",
          "name": "stdout",
          "text": [
            "Original Array:\n",
            " [[95 16 65]\n",
            " [24 38 21]\n",
            " [48 55 63]]\n",
            "Transposed Array:\n",
            " [[95 24 48]\n",
            " [16 38 55]\n",
            " [65 21 63]]\n"
          ]
        }
      ]
    },
    {
      "cell_type": "code",
      "source": [
        "#Q2.\n",
        "arr = np.arange(10)\n",
        "print(\"Original 1D array:\\n\", arr)\n",
        "\n",
        "reshaped_2x5 = arr.reshape(2, 5)\n",
        "print(\"Reshaped to 2x5:\\n\", reshaped_2x5)\n",
        "\n",
        "reshaped_5x2 = arr.reshape(5, 2)\n",
        "print(\"Reshaped to 5x2:\\n\", reshaped_5x2)"
      ],
      "metadata": {
        "colab": {
          "base_uri": "https://localhost:8080/"
        },
        "id": "usUwAr0Jm3Bp",
        "outputId": "b99d89fa-3e84-4352-f54f-2592db813157"
      },
      "execution_count": 15,
      "outputs": [
        {
          "output_type": "stream",
          "name": "stdout",
          "text": [
            "Original 1D array:\n",
            " [0 1 2 3 4 5 6 7 8 9]\n",
            "Reshaped to 2x5:\n",
            " [[0 1 2 3 4]\n",
            " [5 6 7 8 9]]\n",
            "Reshaped to 5x2:\n",
            " [[0 1]\n",
            " [2 3]\n",
            " [4 5]\n",
            " [6 7]\n",
            " [8 9]]\n"
          ]
        }
      ]
    },
    {
      "cell_type": "code",
      "source": [
        "#Q3.\n",
        "arr = np.random.rand(4, 4)\n",
        "print(\"Original 4x4 array:\\n\", arr)\n",
        "\n",
        "padded = np.pad(arr, pad_width=1, mode='constant', constant_values=0)\n",
        "print(\"6x6 array with border:\\n\", padded)"
      ],
      "metadata": {
        "colab": {
          "base_uri": "https://localhost:8080/"
        },
        "id": "9zSFPgZ1m7Wt",
        "outputId": "13878f92-4a18-496b-dfd0-5e509817efba"
      },
      "execution_count": 16,
      "outputs": [
        {
          "output_type": "stream",
          "name": "stdout",
          "text": [
            "Original 4x4 array:\n",
            " [[0.01016336 0.82750746 0.69955292 0.37624886]\n",
            " [0.87861603 0.3595331  0.89460568 0.4704658 ]\n",
            " [0.44270872 0.84667702 0.33169178 0.52586792]\n",
            " [0.3439556  0.07015709 0.01327002 0.05155839]]\n",
            "6x6 array with border:\n",
            " [[0.         0.         0.         0.         0.         0.        ]\n",
            " [0.         0.01016336 0.82750746 0.69955292 0.37624886 0.        ]\n",
            " [0.         0.87861603 0.3595331  0.89460568 0.4704658  0.        ]\n",
            " [0.         0.44270872 0.84667702 0.33169178 0.52586792 0.        ]\n",
            " [0.         0.3439556  0.07015709 0.01327002 0.05155839 0.        ]\n",
            " [0.         0.         0.         0.         0.         0.        ]]\n"
          ]
        }
      ]
    },
    {
      "cell_type": "code",
      "source": [
        "#Q4.\n",
        "arr = np.arange(10, 61, 5)\n",
        "print(\"Array from 10 to 60 with step 5:\\n\", arr)"
      ],
      "metadata": {
        "colab": {
          "base_uri": "https://localhost:8080/"
        },
        "id": "O49KKNsEm9-L",
        "outputId": "39e6e70d-eb8c-4c59-bca7-2d998149c7be"
      },
      "execution_count": 17,
      "outputs": [
        {
          "output_type": "stream",
          "name": "stdout",
          "text": [
            "Array from 10 to 60 with step 5:\n",
            " [10 15 20 25 30 35 40 45 50 55 60]\n"
          ]
        }
      ]
    },
    {
      "cell_type": "code",
      "source": [
        "#Q5.\n",
        "arr = np.array(['python', 'numpy', 'pandas'])\n",
        "\n",
        "upper = np.char.upper(arr)\n",
        "lower = np.char.lower(arr)\n",
        "title = np.char.title(arr)\n",
        "\n",
        "print(\"Uppercase:\", upper)\n",
        "print(\"Lowercase:\", lower)\n",
        "print(\"Title case:\", title)"
      ],
      "metadata": {
        "colab": {
          "base_uri": "https://localhost:8080/"
        },
        "id": "OtVsMEMsm_hl",
        "outputId": "31746d31-61fd-42b8-ea2d-2d84c5ebb121"
      },
      "execution_count": 18,
      "outputs": [
        {
          "output_type": "stream",
          "name": "stdout",
          "text": [
            "Uppercase: ['PYTHON' 'NUMPY' 'PANDAS']\n",
            "Lowercase: ['python' 'numpy' 'pandas']\n",
            "Title case: ['Python' 'Numpy' 'Pandas']\n"
          ]
        }
      ]
    },
    {
      "cell_type": "code",
      "source": [
        "#Q6.\n",
        "arr = np.array(['python', 'numpy', 'pandas'])\n",
        "\n",
        "spaced = np.char.join(' ', arr)\n",
        "print(\"Spaced words:\\n\", spaced)"
      ],
      "metadata": {
        "colab": {
          "base_uri": "https://localhost:8080/"
        },
        "id": "52syYWEInA2A",
        "outputId": "eb21b9eb-8146-418b-c0de-8f439e4aabbe"
      },
      "execution_count": 19,
      "outputs": [
        {
          "output_type": "stream",
          "name": "stdout",
          "text": [
            "Spaced words:\n",
            " ['p y t h o n' 'n u m p y' 'p a n d a s']\n"
          ]
        }
      ]
    },
    {
      "cell_type": "code",
      "source": [
        "#Q7.\n",
        "a = np.random.randint(1, 10, (2, 2))\n",
        "b = np.random.randint(1, 10, (2, 2))\n",
        "\n",
        "print(\"Array A:\\n\", a)\n",
        "print(\"Array B:\\n\", b)\n",
        "\n",
        "print(\"Addition:\\n\", a + b)\n",
        "print(\"Subtraction:\\n\", a - b)\n",
        "print(\"Multiplication:\\n\", a * b)\n",
        "print(\"Division:\\n\", a / b)"
      ],
      "metadata": {
        "colab": {
          "base_uri": "https://localhost:8080/"
        },
        "id": "bR70auzLnCBu",
        "outputId": "56409a3a-9492-4dff-8f20-04e2d98d2c9b"
      },
      "execution_count": 20,
      "outputs": [
        {
          "output_type": "stream",
          "name": "stdout",
          "text": [
            "Array A:\n",
            " [[6 8]\n",
            " [9 5]]\n",
            "Array B:\n",
            " [[5 4]\n",
            " [9 9]]\n",
            "Addition:\n",
            " [[11 12]\n",
            " [18 14]]\n",
            "Subtraction:\n",
            " [[ 1  4]\n",
            " [ 0 -4]]\n",
            "Multiplication:\n",
            " [[30 32]\n",
            " [81 45]]\n",
            "Division:\n",
            " [[1.2        2.        ]\n",
            " [1.         0.55555556]]\n"
          ]
        }
      ]
    },
    {
      "cell_type": "code",
      "source": [
        "#Q8.\n",
        "identity = np.eye(5)\n",
        "print(\"5x5 Identity Matrix:\\n\", identity)\n",
        "\n",
        "diagonal = np.diag(identity)\n",
        "print(\"Diagonal Elements:\\n\", diagonal)"
      ],
      "metadata": {
        "colab": {
          "base_uri": "https://localhost:8080/"
        },
        "id": "IBncI3XvnDlP",
        "outputId": "a1fa9abe-0e0b-45ac-b584-0e6ffaac1b13"
      },
      "execution_count": 21,
      "outputs": [
        {
          "output_type": "stream",
          "name": "stdout",
          "text": [
            "5x5 Identity Matrix:\n",
            " [[1. 0. 0. 0. 0.]\n",
            " [0. 1. 0. 0. 0.]\n",
            " [0. 0. 1. 0. 0.]\n",
            " [0. 0. 0. 1. 0.]\n",
            " [0. 0. 0. 0. 1.]]\n",
            "Diagonal Elements:\n",
            " [1. 1. 1. 1. 1.]\n"
          ]
        }
      ]
    },
    {
      "cell_type": "code",
      "source": [
        "#Q9.\n",
        "arr = np.random.randint(0, 1000, 100)\n",
        "\n",
        "def is_prime(n):\n",
        "    if n < 2:\n",
        "        return False\n",
        "    for i in range(2, int(np.sqrt(n)) + 1):\n",
        "        if n % i == 0:\n",
        "            return False\n",
        "    return True\n",
        "\n",
        "primes = np.array([num for num in arr if is_prime(num)])\n",
        "print(\"Prime Numbers:\\n\", primes)"
      ],
      "metadata": {
        "colab": {
          "base_uri": "https://localhost:8080/"
        },
        "id": "utfUPQxZnExk",
        "outputId": "4713c706-2d7d-48f3-f18a-2ea9c632fbb7"
      },
      "execution_count": 22,
      "outputs": [
        {
          "output_type": "stream",
          "name": "stdout",
          "text": [
            "Prime Numbers:\n",
            " [ 61 277 193 811 241 811 239 503  53 227 199 859 269 353 181 227 479 907]\n"
          ]
        }
      ]
    },
    {
      "cell_type": "code",
      "source": [
        "#Q10.\n",
        "temps = np.random.randint(20, 40, 30)\n",
        "print(\"Daily Temperatures:\\n\", temps)\n",
        "\n",
        "weekly_avg = np.mean(temps.reshape(6, 5), axis=1)\n",
        "print(\"Weekly Averages:\\n\", weekly_avg)"
      ],
      "metadata": {
        "colab": {
          "base_uri": "https://localhost:8080/"
        },
        "id": "VQtGIn_lnGXo",
        "outputId": "e9da2748-b22e-4583-c69b-6b46eb0ffc06"
      },
      "execution_count": 23,
      "outputs": [
        {
          "output_type": "stream",
          "name": "stdout",
          "text": [
            "Daily Temperatures:\n",
            " [33 20 37 25 34 25 28 29 31 24 25 20 24 34 26 26 34 29 37 21 22 22 20 32\n",
            " 38 20 38 26 33 38]\n",
            "Weekly Averages:\n",
            " [29.8 27.4 25.8 29.4 26.8 31. ]\n"
          ]
        }
      ]
    },
    {
      "cell_type": "code",
      "source": [],
      "metadata": {
        "id": "5b962om3nHk0"
      },
      "execution_count": null,
      "outputs": []
    }
  ]
}